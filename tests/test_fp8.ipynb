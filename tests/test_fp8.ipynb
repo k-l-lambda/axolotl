{
 "cells": [
  {
   "cell_type": "code",
   "execution_count": 4,
   "metadata": {},
   "outputs": [
    {
     "data": {
      "text/plain": [
       "tensor([-1.6250,  0.5625, -0.0625,  0.4062,  0.5000, -0.4062, -0.1406,  0.6250,\n",
       "         0.8125,  0.0391, -1.0000, -1.1250, -0.3750, -0.8125, -0.5625, -0.8750,\n",
       "         0.7500, -1.2500,  0.1562,  1.0000,  0.2812,  0.1719, -1.1250, -0.6875,\n",
       "         0.8125, -0.6250, -1.0000,  0.4062, -1.1250,  0.7500,  1.6250, -0.6250,\n",
       "         0.6250, -1.2500, -0.1172, -0.8750, -0.4375, -0.5625,  0.5000,  0.3438,\n",
       "         1.0000, -0.6250, -1.5000, -1.3750, -1.2500,  0.7500, -2.2500,  1.0000,\n",
       "         0.8750,  2.0000, -0.2812,  2.2500,  0.7500, -0.5625, -0.2812, -0.2500,\n",
       "         1.1250,  0.0215, -0.1406, -1.5000,  0.3438, -1.6250,  0.2812, -0.9375,\n",
       "         1.5000,  0.0176,  2.2500, -1.1250, -0.2188, -0.6875, -3.2500, -0.7500,\n",
       "         0.8750, -1.5000, -0.5625,  0.8750,  0.1406,  0.8125,  0.5000,  1.2500,\n",
       "         0.6875,  0.4062, -0.8750, -0.8125,  0.5000,  0.4062,  0.0938, -0.8750,\n",
       "         1.1250, -1.8750,  0.8750,  0.2188,  0.1406, -0.6875, -0.8125, -0.0703,\n",
       "         1.6250,  0.4375, -2.0000,  0.2500,  1.3750,  0.4688,  0.3125, -0.0547,\n",
       "         0.8750, -0.5000,  1.3750,  2.0000, -0.0352,  0.9375, -0.6250, -0.8125,\n",
       "         0.8125, -2.2500, -1.1250,  0.6250, -0.2500,  0.1562, -1.7500,  0.4062,\n",
       "         0.1250, -0.2031,  0.5625, -0.8750,  0.6250, -0.3438, -0.3438,  1.0000],\n",
       "       device='cuda:0', dtype=torch.float8_e4m3fn)"
      ]
     },
     "execution_count": 4,
     "metadata": {},
     "output_type": "execute_result"
    }
   ],
   "source": [
    "import torch\n",
    "\n",
    "\n",
    "# Create a float16 tensor\n",
    "x = torch.randn(128, device=\"cuda\", dtype=torch.bfloat16)\n",
    "\n",
    "# Convert to FP8\n",
    "y = x.to(torch.float8_e4m3fn)\n",
    "y\n"
   ]
  },
  {
   "cell_type": "code",
   "execution_count": 6,
   "metadata": {},
   "outputs": [
    {
     "data": {
      "text/plain": [
       "tensor(0.0293, device='cuda:0', dtype=torch.bfloat16)"
      ]
     },
     "execution_count": 6,
     "metadata": {},
     "output_type": "execute_result"
    }
   ],
   "source": [
    "(y.to(torch.bfloat16) - x).norm() / x.norm()"
   ]
  }
 ],
 "metadata": {
  "kernelspec": {
   "display_name": "env",
   "language": "python",
   "name": "python3"
  },
  "language_info": {
   "codemirror_mode": {
    "name": "ipython",
    "version": 3
   },
   "file_extension": ".py",
   "mimetype": "text/x-python",
   "name": "python",
   "nbconvert_exporter": "python",
   "pygments_lexer": "ipython3",
   "version": "3.10.15"
  }
 },
 "nbformat": 4,
 "nbformat_minor": 2
}
