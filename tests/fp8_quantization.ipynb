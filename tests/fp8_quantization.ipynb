{
 "cells": [
  {
   "cell_type": "code",
   "execution_count": 1,
   "metadata": {},
   "outputs": [],
   "source": [
    "import os\n",
    "\n",
    "\n",
    "os.environ['CUDA_VISIBLE_DEVICES'] = '0'"
   ]
  },
  {
   "cell_type": "code",
   "execution_count": 2,
   "metadata": {},
   "outputs": [
    {
     "name": "stderr",
     "output_type": "stream",
     "text": [
      "/root/work/axolotl/env/lib/python3.10/site-packages/tqdm/auto.py:21: TqdmWarning: IProgress not found. Please update jupyter and ipywidgets. See https://ipywidgets.readthedocs.io/en/stable/user_install.html\n",
      "  from .autonotebook import tqdm as notebook_tqdm\n"
     ]
    }
   ],
   "source": [
    "from transformers import AutoTokenizer, AutoModelForCausalLM\n",
    "\n",
    "\n",
    "MODEL_ID = \"/models/train/20241224-llama3.2-1B-finetune-l1-1d9e/checkpoint-5000\"\n",
    "\n",
    "model = AutoModelForCausalLM.from_pretrained(MODEL_ID, device_map=\"auto\", torch_dtype=\"auto\")\n",
    "tokenizer = AutoTokenizer.from_pretrained(MODEL_ID)\n"
   ]
  },
  {
   "cell_type": "code",
   "execution_count": 3,
   "metadata": {},
   "outputs": [
    {
     "name": "stderr",
     "output_type": "stream",
     "text": [
      "/root/work/axolotl/env/lib/python3.10/site-packages/pydantic/_internal/_fields.py:186: UserWarning: Field name \"registry_requires_subclass\" shadows an attribute in parent \"RegistryMixin\"; \n",
      "  warnings.warn(\n",
      "/root/work/axolotl/env/lib/python3.10/site-packages/pydantic/_internal/_fields.py:186: UserWarning: Field name \"registry_requires_subclass\" shadows an attribute in parent \"SparsityCompressionConfig\"; \n",
      "  warnings.warn(\n"
     ]
    },
    {
     "name": "stdout",
     "output_type": "stream",
     "text": [
      "2024-12-30T13:50:47.443708+0800 | main | WARNING - Process rank: 0, device: cuda:0, n_gpu: 1, distributed training: True, 16-bits training: False\n",
      "2024-12-30T13:50:47.446363+0800 | main | INFO - Training/evaluation parameters TrainingArguments(\n",
      "_n_gpu=1,\n",
      "accelerator_config={'split_batches': False, 'dispatch_batches': None, 'even_batches': True, 'use_seedable_sampler': True, 'non_blocking': False, 'gradient_accumulation_kwargs': None, 'use_configured_state': False},\n",
      "adafactor=False,\n",
      "adam_beta1=0.9,\n",
      "adam_beta2=0.999,\n",
      "adam_epsilon=1e-08,\n",
      "auto_find_batch_size=False,\n",
      "average_tokens_across_devices=False,\n",
      "batch_eval_metrics=False,\n",
      "bf16=False,\n",
      "bf16_full_eval=False,\n",
      "clear_sparse_session=False,\n",
      "data_seed=None,\n",
      "dataloader_drop_last=False,\n",
      "dataloader_num_workers=0,\n",
      "dataloader_persistent_workers=False,\n",
      "dataloader_pin_memory=True,\n",
      "dataloader_prefetch_factor=None,\n",
      "ddp_backend=None,\n",
      "ddp_broadcast_buffers=None,\n",
      "ddp_bucket_cap_mb=None,\n",
      "ddp_find_unused_parameters=None,\n",
      "ddp_timeout=1800,\n",
      "debug=[],\n",
      "deepspeed=None,\n",
      "disable_tqdm=False,\n",
      "dispatch_batches=None,\n",
      "do_eval=False,\n",
      "do_oneshot=True,\n",
      "do_predict=False,\n",
      "do_train=False,\n",
      "eval_accumulation_steps=None,\n",
      "eval_delay=0,\n",
      "eval_do_concat_batches=True,\n",
      "eval_on_start=False,\n",
      "eval_steps=None,\n",
      "eval_strategy=no,\n",
      "eval_use_gather_object=False,\n",
      "evaluation_strategy=None,\n",
      "fp16=False,\n",
      "fp16_backend=auto,\n",
      "fp16_full_eval=False,\n",
      "fp16_opt_level=O1,\n",
      "fsdp=[],\n",
      "fsdp_config={'min_num_params': 0, 'xla': False, 'xla_fsdp_v2': False, 'xla_fsdp_grad_ckpt': False},\n",
      "fsdp_min_num_params=0,\n",
      "fsdp_transformer_layer_cls_to_wrap=None,\n",
      "full_determinism=False,\n",
      "gradient_accumulation_steps=1,\n",
      "gradient_checkpointing=False,\n",
      "gradient_checkpointing_kwargs=None,\n",
      "greater_is_better=None,\n",
      "group_by_length=False,\n",
      "half_precision_backend=auto,\n",
      "hub_always_push=False,\n",
      "hub_model_id=None,\n",
      "hub_private_repo=False,\n",
      "hub_strategy=every_save,\n",
      "hub_token=<HUB_TOKEN>,\n",
      "ignore_data_skip=False,\n",
      "include_for_metrics=[],\n",
      "include_inputs_for_metrics=False,\n",
      "include_num_input_tokens_seen=False,\n",
      "include_tokens_per_second=False,\n",
      "jit_mode_eval=False,\n",
      "label_names=None,\n",
      "label_smoothing_factor=0.0,\n",
      "learning_rate=5e-05,\n",
      "length_column_name=length,\n",
      "load_best_model_at_end=False,\n",
      "local_rank=0,\n",
      "log_level=passive,\n",
      "log_level_replica=warning,\n",
      "log_on_each_node=True,\n",
      "logging_dir=./output/runs/Dec30_13-50-47_camus,\n",
      "logging_first_step=False,\n",
      "logging_nan_inf_filter=True,\n",
      "logging_steps=500,\n",
      "logging_strategy=steps,\n",
      "lr_scheduler_kwargs={},\n",
      "lr_scheduler_type=linear,\n",
      "max_grad_norm=1.0,\n",
      "max_steps=-1,\n",
      "metric_for_best_model=None,\n",
      "mp_parameters=,\n",
      "neftune_noise_alpha=None,\n",
      "no_cuda=False,\n",
      "num_train_epochs=3.0,\n",
      "oneshot_device=cuda:0,\n",
      "optim=adamw_torch,\n",
      "optim_args=None,\n",
      "optim_target_modules=None,\n",
      "output_dir=./output,\n",
      "overwrite_output_dir=False,\n",
      "past_index=-1,\n",
      "per_device_eval_batch_size=8,\n",
      "per_device_train_batch_size=8,\n",
      "prediction_loss_only=False,\n",
      "push_to_hub=False,\n",
      "push_to_hub_model_id=None,\n",
      "push_to_hub_organization=None,\n",
      "push_to_hub_token=<PUSH_TO_HUB_TOKEN>,\n",
      "ray_scope=last,\n",
      "recipe=index=None group=None start=None end=None update=None initialized_structure_=False initialized_=False finalized_=False started_=False ended_=False config_groups=None ignore=['lm_head'] targets=['Linear'] scheme='FP8_DYNAMIC' kv_cache_scheme=None disable_quantization_observer_epoch=None num_calibration_steps=None calibration_dataloader_=None calibration_function_=None,\n",
      "recipe_args=None,\n",
      "remove_unused_columns=True,\n",
      "report_to=['tensorboard', 'wandb'],\n",
      "restore_callback_states_from_checkpoint=False,\n",
      "resume_from_checkpoint=None,\n",
      "run_name=./output,\n",
      "run_stages=False,\n",
      "save_compressed=True,\n",
      "save_on_each_node=False,\n",
      "save_only_model=False,\n",
      "save_safetensors=True,\n",
      "save_steps=500,\n",
      "save_strategy=steps,\n",
      "save_total_limit=None,\n",
      "seed=42,\n",
      "skip_memory_metrics=True,\n",
      "split_batches=None,\n",
      "tf32=None,\n",
      "torch_compile=False,\n",
      "torch_compile_backend=None,\n",
      "torch_compile_mode=None,\n",
      "torch_empty_cache_steps=None,\n",
      "torchdynamo=None,\n",
      "tpu_metrics_debug=False,\n",
      "tpu_num_cores=None,\n",
      "use_cpu=False,\n",
      "use_ipex=False,\n",
      "use_legacy_prediction_loop=False,\n",
      "use_liger_kernel=False,\n",
      "use_mps_device=False,\n",
      "warmup_ratio=0.0,\n",
      "warmup_steps=0,\n",
      "weight_decay=0.0,\n",
      ")\n",
      "2024-12-30T13:50:48.013877+0800 | _check_create_state | INFO - State created for compression lifecycle\n"
     ]
    },
    {
     "name": "stderr",
     "output_type": "stream",
     "text": [
      "\u001b[34m\u001b[1mwandb\u001b[0m: Using wandb-core as the SDK backend. Please refer to https://wandb.me/wandb-core for more information.\n",
      "\u001b[34m\u001b[1mwandb\u001b[0m: Currently logged in as: \u001b[33mk-l-lambda\u001b[0m (\u001b[33mk-l-lambda-org\u001b[0m). Use \u001b[1m`wandb login --relogin`\u001b[0m to force relogin\n"
     ]
    },
    {
     "data": {
      "text/html": [
       "Tracking run with wandb version 0.18.3"
      ],
      "text/plain": [
       "<IPython.core.display.HTML object>"
      ]
     },
     "metadata": {},
     "output_type": "display_data"
    },
    {
     "data": {
      "text/html": [
       "Run data is saved locally in <code>/root/work/axolotl/tests/wandb/run-20241230_135049-1qxccrp7</code>"
      ],
      "text/plain": [
       "<IPython.core.display.HTML object>"
      ]
     },
     "metadata": {},
     "output_type": "display_data"
    },
    {
     "data": {
      "text/html": [
       "Syncing run <strong><a href='https://wandb.ai/k-l-lambda-org/axolotl-tests/runs/1qxccrp7' target=\"_blank\">smart-dream-12</a></strong> to <a href='https://wandb.ai/k-l-lambda-org/axolotl-tests' target=\"_blank\">Weights & Biases</a> (<a href='https://wandb.me/run' target=\"_blank\">docs</a>)<br/>"
      ],
      "text/plain": [
       "<IPython.core.display.HTML object>"
      ]
     },
     "metadata": {},
     "output_type": "display_data"
    },
    {
     "data": {
      "text/html": [
       " View project at <a href='https://wandb.ai/k-l-lambda-org/axolotl-tests' target=\"_blank\">https://wandb.ai/k-l-lambda-org/axolotl-tests</a>"
      ],
      "text/plain": [
       "<IPython.core.display.HTML object>"
      ]
     },
     "metadata": {},
     "output_type": "display_data"
    },
    {
     "data": {
      "text/html": [
       " View run at <a href='https://wandb.ai/k-l-lambda-org/axolotl-tests/runs/1qxccrp7' target=\"_blank\">https://wandb.ai/k-l-lambda-org/axolotl-tests/runs/1qxccrp7</a>"
      ],
      "text/plain": [
       "<IPython.core.display.HTML object>"
      ]
     },
     "metadata": {},
     "output_type": "display_data"
    },
    {
     "name": "stdout",
     "output_type": "stream",
     "text": [
      "2024-12-30T13:50:50.534610+0800 | pre_initialize_structure | INFO - Compression lifecycle structure pre-initialized for 0 modifiers\n"
     ]
    },
    {
     "data": {
      "text/html": [
       "Finishing last run (ID:1qxccrp7) before initializing another..."
      ],
      "text/plain": [
       "<IPython.core.display.HTML object>"
      ]
     },
     "metadata": {},
     "output_type": "display_data"
    },
    {
     "data": {
      "text/html": [
       " View run <strong style=\"color:#cdcd00\">smart-dream-12</strong> at: <a href='https://wandb.ai/k-l-lambda-org/axolotl-tests/runs/1qxccrp7' target=\"_blank\">https://wandb.ai/k-l-lambda-org/axolotl-tests/runs/1qxccrp7</a><br/> View project at: <a href='https://wandb.ai/k-l-lambda-org/axolotl-tests' target=\"_blank\">https://wandb.ai/k-l-lambda-org/axolotl-tests</a><br/>Synced 5 W&B file(s), 0 media file(s), 0 artifact file(s) and 0 other file(s)"
      ],
      "text/plain": [
       "<IPython.core.display.HTML object>"
      ]
     },
     "metadata": {},
     "output_type": "display_data"
    },
    {
     "data": {
      "text/html": [
       "Find logs at: <code>./wandb/run-20241230_135049-1qxccrp7/logs</code>"
      ],
      "text/plain": [
       "<IPython.core.display.HTML object>"
      ]
     },
     "metadata": {},
     "output_type": "display_data"
    },
    {
     "data": {
      "text/html": [
       "Successfully finished last run (ID:1qxccrp7). Initializing new run:<br/>"
      ],
      "text/plain": [
       "<IPython.core.display.HTML object>"
      ]
     },
     "metadata": {},
     "output_type": "display_data"
    },
    {
     "data": {
      "text/html": [
       "Tracking run with wandb version 0.18.3"
      ],
      "text/plain": [
       "<IPython.core.display.HTML object>"
      ]
     },
     "metadata": {},
     "output_type": "display_data"
    },
    {
     "data": {
      "text/html": [
       "Run data is saved locally in <code>/root/work/axolotl/tests/wandb/run-20241230_135050-232j5zfe</code>"
      ],
      "text/plain": [
       "<IPython.core.display.HTML object>"
      ]
     },
     "metadata": {},
     "output_type": "display_data"
    },
    {
     "data": {
      "text/html": [
       "Syncing run <strong><a href='https://wandb.ai/k-l-lambda-org/axolotl-tests/runs/232j5zfe' target=\"_blank\">lyric-moon-13</a></strong> to <a href='https://wandb.ai/k-l-lambda-org/axolotl-tests' target=\"_blank\">Weights & Biases</a> (<a href='https://wandb.me/run' target=\"_blank\">docs</a>)<br/>"
      ],
      "text/plain": [
       "<IPython.core.display.HTML object>"
      ]
     },
     "metadata": {},
     "output_type": "display_data"
    },
    {
     "data": {
      "text/html": [
       " View project at <a href='https://wandb.ai/k-l-lambda-org/axolotl-tests' target=\"_blank\">https://wandb.ai/k-l-lambda-org/axolotl-tests</a>"
      ],
      "text/plain": [
       "<IPython.core.display.HTML object>"
      ]
     },
     "metadata": {},
     "output_type": "display_data"
    },
    {
     "data": {
      "text/html": [
       " View run at <a href='https://wandb.ai/k-l-lambda-org/axolotl-tests/runs/232j5zfe' target=\"_blank\">https://wandb.ai/k-l-lambda-org/axolotl-tests/runs/232j5zfe</a>"
      ],
      "text/plain": [
       "<IPython.core.display.HTML object>"
      ]
     },
     "metadata": {},
     "output_type": "display_data"
    },
    {
     "name": "stdout",
     "output_type": "stream",
     "text": [
      "2024-12-30T13:50:57.500141+0800 | pre_initialize_structure | INFO - Compression lifecycle structure pre-initialized for 0 modifiers\n",
      "2024-12-30T13:50:57.501784+0800 | populate_datasets | INFO - Running oneshot without calibration data. This is expected for weight-only and dynamic quantization\n"
     ]
    },
    {
     "data": {
      "text/html": [
       "Finishing last run (ID:232j5zfe) before initializing another..."
      ],
      "text/plain": [
       "<IPython.core.display.HTML object>"
      ]
     },
     "metadata": {},
     "output_type": "display_data"
    },
    {
     "data": {
      "text/html": [
       " View run <strong style=\"color:#cdcd00\">lyric-moon-13</strong> at: <a href='https://wandb.ai/k-l-lambda-org/axolotl-tests/runs/232j5zfe' target=\"_blank\">https://wandb.ai/k-l-lambda-org/axolotl-tests/runs/232j5zfe</a><br/> View project at: <a href='https://wandb.ai/k-l-lambda-org/axolotl-tests' target=\"_blank\">https://wandb.ai/k-l-lambda-org/axolotl-tests</a><br/>Synced 5 W&B file(s), 0 media file(s), 0 artifact file(s) and 0 other file(s)"
      ],
      "text/plain": [
       "<IPython.core.display.HTML object>"
      ]
     },
     "metadata": {},
     "output_type": "display_data"
    },
    {
     "data": {
      "text/html": [
       "Find logs at: <code>./wandb/run-20241230_135050-232j5zfe/logs</code>"
      ],
      "text/plain": [
       "<IPython.core.display.HTML object>"
      ]
     },
     "metadata": {},
     "output_type": "display_data"
    },
    {
     "data": {
      "text/html": [
       "Successfully finished last run (ID:232j5zfe). Initializing new run:<br/>"
      ],
      "text/plain": [
       "<IPython.core.display.HTML object>"
      ]
     },
     "metadata": {},
     "output_type": "display_data"
    },
    {
     "data": {
      "text/html": [
       "Tracking run with wandb version 0.18.3"
      ],
      "text/plain": [
       "<IPython.core.display.HTML object>"
      ]
     },
     "metadata": {},
     "output_type": "display_data"
    },
    {
     "data": {
      "text/html": [
       "Run data is saved locally in <code>/root/work/axolotl/tests/wandb/run-20241230_135057-k16ysoii</code>"
      ],
      "text/plain": [
       "<IPython.core.display.HTML object>"
      ]
     },
     "metadata": {},
     "output_type": "display_data"
    },
    {
     "data": {
      "text/html": [
       "Syncing run <strong><a href='https://wandb.ai/k-l-lambda-org/axolotl-tests/runs/k16ysoii' target=\"_blank\">super-night-14</a></strong> to <a href='https://wandb.ai/k-l-lambda-org/axolotl-tests' target=\"_blank\">Weights & Biases</a> (<a href='https://wandb.me/run' target=\"_blank\">docs</a>)<br/>"
      ],
      "text/plain": [
       "<IPython.core.display.HTML object>"
      ]
     },
     "metadata": {},
     "output_type": "display_data"
    },
    {
     "data": {
      "text/html": [
       " View project at <a href='https://wandb.ai/k-l-lambda-org/axolotl-tests' target=\"_blank\">https://wandb.ai/k-l-lambda-org/axolotl-tests</a>"
      ],
      "text/plain": [
       "<IPython.core.display.HTML object>"
      ]
     },
     "metadata": {},
     "output_type": "display_data"
    },
    {
     "data": {
      "text/html": [
       " View run at <a href='https://wandb.ai/k-l-lambda-org/axolotl-tests/runs/k16ysoii' target=\"_blank\">https://wandb.ai/k-l-lambda-org/axolotl-tests/runs/k16ysoii</a>"
      ],
      "text/plain": [
       "<IPython.core.display.HTML object>"
      ]
     },
     "metadata": {},
     "output_type": "display_data"
    },
    {
     "name": "stdout",
     "output_type": "stream",
     "text": [
      "2024-12-30T13:51:02.742080+0800 | one_shot | INFO - *** One Shot ***\n"
     ]
    },
    {
     "name": "stderr",
     "output_type": "stream",
     "text": [
      "/root/work/axolotl/env/lib/python3.10/site-packages/llmcompressor/transformers/finetune/session_mixin.py:96: FutureWarning: `tokenizer` is deprecated and will be removed in version 5.0.0 for `Trainer.__init__`. Use `processing_class` instead.\n",
      "  super().__init__(**kwargs)\n"
     ]
    },
    {
     "data": {
      "text/html": [
       "Finishing last run (ID:k16ysoii) before initializing another..."
      ],
      "text/plain": [
       "<IPython.core.display.HTML object>"
      ]
     },
     "metadata": {},
     "output_type": "display_data"
    },
    {
     "data": {
      "text/html": [
       " View run <strong style=\"color:#cdcd00\">super-night-14</strong> at: <a href='https://wandb.ai/k-l-lambda-org/axolotl-tests/runs/k16ysoii' target=\"_blank\">https://wandb.ai/k-l-lambda-org/axolotl-tests/runs/k16ysoii</a><br/> View project at: <a href='https://wandb.ai/k-l-lambda-org/axolotl-tests' target=\"_blank\">https://wandb.ai/k-l-lambda-org/axolotl-tests</a><br/>Synced 5 W&B file(s), 0 media file(s), 0 artifact file(s) and 0 other file(s)"
      ],
      "text/plain": [
       "<IPython.core.display.HTML object>"
      ]
     },
     "metadata": {},
     "output_type": "display_data"
    },
    {
     "data": {
      "text/html": [
       "Find logs at: <code>./wandb/run-20241230_135057-k16ysoii/logs</code>"
      ],
      "text/plain": [
       "<IPython.core.display.HTML object>"
      ]
     },
     "metadata": {},
     "output_type": "display_data"
    },
    {
     "data": {
      "text/html": [
       "Successfully finished last run (ID:k16ysoii). Initializing new run:<br/>"
      ],
      "text/plain": [
       "<IPython.core.display.HTML object>"
      ]
     },
     "metadata": {},
     "output_type": "display_data"
    },
    {
     "data": {
      "text/html": [
       "Tracking run with wandb version 0.18.3"
      ],
      "text/plain": [
       "<IPython.core.display.HTML object>"
      ]
     },
     "metadata": {},
     "output_type": "display_data"
    },
    {
     "data": {
      "text/html": [
       "Run data is saved locally in <code>/root/work/axolotl/tests/wandb/run-20241230_135102-26sqqy75</code>"
      ],
      "text/plain": [
       "<IPython.core.display.HTML object>"
      ]
     },
     "metadata": {},
     "output_type": "display_data"
    },
    {
     "data": {
      "text/html": [
       "Syncing run <strong><a href='https://wandb.ai/k-l-lambda-org/axolotl-tests/runs/26sqqy75' target=\"_blank\">devoted-feather-15</a></strong> to <a href='https://wandb.ai/k-l-lambda-org/axolotl-tests' target=\"_blank\">Weights & Biases</a> (<a href='https://wandb.me/run' target=\"_blank\">docs</a>)<br/>"
      ],
      "text/plain": [
       "<IPython.core.display.HTML object>"
      ]
     },
     "metadata": {},
     "output_type": "display_data"
    },
    {
     "data": {
      "text/html": [
       " View project at <a href='https://wandb.ai/k-l-lambda-org/axolotl-tests' target=\"_blank\">https://wandb.ai/k-l-lambda-org/axolotl-tests</a>"
      ],
      "text/plain": [
       "<IPython.core.display.HTML object>"
      ]
     },
     "metadata": {},
     "output_type": "display_data"
    },
    {
     "data": {
      "text/html": [
       " View run at <a href='https://wandb.ai/k-l-lambda-org/axolotl-tests/runs/26sqqy75' target=\"_blank\">https://wandb.ai/k-l-lambda-org/axolotl-tests/runs/26sqqy75</a>"
      ],
      "text/plain": [
       "<IPython.core.display.HTML object>"
      ]
     },
     "metadata": {},
     "output_type": "display_data"
    },
    {
     "name": "stdout",
     "output_type": "stream",
     "text": [
      "2024-12-30T13:51:08.277279+0800 | from_modifiers | INFO - Creating recipe from modifiers\n",
      "2024-12-30T13:51:08.328461+0800 | _check_compile_recipe | INFO - Recipe compiled and 1 modifiers created\n"
     ]
    },
    {
     "name": "stderr",
     "output_type": "stream",
     "text": [
      "manager stage: Modifiers initialized\n"
     ]
    },
    {
     "name": "stdout",
     "output_type": "stream",
     "text": [
      "2024-12-30T13:51:08.650772+0800 | initialize | INFO - Compression lifecycle initialized for 1 modifiers\n"
     ]
    },
    {
     "name": "stderr",
     "output_type": "stream",
     "text": [
      "manager stage: Modifiers finalized\n"
     ]
    },
    {
     "name": "stdout",
     "output_type": "stream",
     "text": [
      "2024-12-30T13:51:08.652503+0800 | finalize | INFO - Compression lifecycle finalized for 1 modifiers\n",
      "2024-12-30T13:51:08.662381+0800 | get_model_compressor | INFO - Inferring a sparsity configuration requires a global sparsity calculation. This can be costly for large models. To skip the calculation of compression statistics set skip_compression_stats=True\n"
     ]
    },
    {
     "name": "stderr",
     "output_type": "stream",
     "text": [
      "Calculating model sparsity: 100%|██████████| 371/371 [00:04<00:00, 79.07it/s] \n",
      "Calculating quantization compression ratio: 180it [00:00, 968.50it/s]\n",
      "Quantized Compression: 100%|██████████| 371/371 [00:01<00:00, 254.77it/s]\n"
     ]
    },
    {
     "data": {
      "text/plain": [
       "('/models/train/20241224-llama3.2-1B-finetune-l1-1d9e/checkpoint-5000-FP8/tokenizer_config.json',\n",
       " '/models/train/20241224-llama3.2-1B-finetune-l1-1d9e/checkpoint-5000-FP8/special_tokens_map.json',\n",
       " '/models/train/20241224-llama3.2-1B-finetune-l1-1d9e/checkpoint-5000-FP8/tokenizer.json')"
      ]
     },
     "execution_count": 3,
     "metadata": {},
     "output_type": "execute_result"
    }
   ],
   "source": [
    "from llmcompressor.transformers import oneshot\n",
    "from llmcompressor.modifiers.quantization import QuantizationModifier\n",
    "\n",
    "\n",
    "# Configure the simple PTQ quantization\n",
    "recipe = QuantizationModifier(targets=\"Linear\", scheme=\"FP8_DYNAMIC\", ignore=[\"lm_head\"])\n",
    "\n",
    "# Apply the quantization algorithm.\n",
    "oneshot(model=model, recipe=recipe)\n",
    "\n",
    "# Save the model.\n",
    "SAVE_DIR = '/models/train/20241224-llama3.2-1B-finetune-l1-1d9e/checkpoint-5000-FP8'\n",
    "model.save_pretrained(SAVE_DIR)\n",
    "tokenizer.save_pretrained(SAVE_DIR)"
   ]
  },
  {
   "cell_type": "code",
   "execution_count": 4,
   "metadata": {},
   "outputs": [
    {
     "name": "stdout",
     "output_type": "stream",
     "text": [
      "lm_head.weight torch.Size([128256, 2048]) torch.bfloat16\n",
      "model.embed_tokens.weight torch.Size([128256, 2048]) torch.bfloat16\n",
      "model.layers.0.input_layernorm.weight torch.Size([2048]) torch.bfloat16\n",
      "model.layers.0.mlp.down_proj.weight torch.Size([2048, 8192]) torch.float8_e4m3fn\n",
      "model.layers.0.mlp.down_proj.weight_scale torch.Size([2048, 1]) torch.bfloat16\n",
      "model.layers.0.mlp.gate_proj.weight torch.Size([8192, 2048]) torch.float8_e4m3fn\n",
      "model.layers.0.mlp.gate_proj.weight_scale torch.Size([8192, 1]) torch.bfloat16\n",
      "model.layers.0.mlp.up_proj.weight torch.Size([8192, 2048]) torch.float8_e4m3fn\n",
      "model.layers.0.mlp.up_proj.weight_scale torch.Size([8192, 1]) torch.bfloat16\n",
      "model.layers.0.post_attention_layernorm.weight torch.Size([2048]) torch.bfloat16\n",
      "model.layers.0.self_attn.k_proj.weight torch.Size([512, 2048]) torch.float8_e4m3fn\n",
      "model.layers.0.self_attn.k_proj.weight_scale torch.Size([512, 1]) torch.bfloat16\n",
      "model.layers.0.self_attn.o_proj.weight torch.Size([2048, 2048]) torch.float8_e4m3fn\n",
      "model.layers.0.self_attn.o_proj.weight_scale torch.Size([2048, 1]) torch.bfloat16\n",
      "model.layers.0.self_attn.q_proj.weight torch.Size([2048, 2048]) torch.float8_e4m3fn\n",
      "model.layers.0.self_attn.q_proj.weight_scale torch.Size([2048, 1]) torch.bfloat16\n",
      "model.layers.0.self_attn.v_proj.weight torch.Size([512, 2048]) torch.float8_e4m3fn\n",
      "model.layers.0.self_attn.v_proj.weight_scale torch.Size([512, 1]) torch.bfloat16\n",
      "model.layers.1.input_layernorm.weight torch.Size([2048]) torch.bfloat16\n",
      "model.layers.1.mlp.down_proj.weight torch.Size([2048, 8192]) torch.float8_e4m3fn\n",
      "model.layers.1.mlp.down_proj.weight_scale torch.Size([2048, 1]) torch.bfloat16\n",
      "model.layers.1.mlp.gate_proj.weight torch.Size([8192, 2048]) torch.float8_e4m3fn\n",
      "model.layers.1.mlp.gate_proj.weight_scale torch.Size([8192, 1]) torch.bfloat16\n",
      "model.layers.1.mlp.up_proj.weight torch.Size([8192, 2048]) torch.float8_e4m3fn\n",
      "model.layers.1.mlp.up_proj.weight_scale torch.Size([8192, 1]) torch.bfloat16\n",
      "model.layers.1.post_attention_layernorm.weight torch.Size([2048]) torch.bfloat16\n",
      "model.layers.1.self_attn.k_proj.weight torch.Size([512, 2048]) torch.float8_e4m3fn\n",
      "model.layers.1.self_attn.k_proj.weight_scale torch.Size([512, 1]) torch.bfloat16\n",
      "model.layers.1.self_attn.o_proj.weight torch.Size([2048, 2048]) torch.float8_e4m3fn\n",
      "model.layers.1.self_attn.o_proj.weight_scale torch.Size([2048, 1]) torch.bfloat16\n",
      "model.layers.1.self_attn.q_proj.weight torch.Size([2048, 2048]) torch.float8_e4m3fn\n",
      "model.layers.1.self_attn.q_proj.weight_scale torch.Size([2048, 1]) torch.bfloat16\n",
      "model.layers.1.self_attn.v_proj.weight torch.Size([512, 2048]) torch.float8_e4m3fn\n",
      "model.layers.1.self_attn.v_proj.weight_scale torch.Size([512, 1]) torch.bfloat16\n",
      "model.layers.10.input_layernorm.weight torch.Size([2048]) torch.bfloat16\n",
      "model.layers.10.mlp.down_proj.weight torch.Size([2048, 8192]) torch.float8_e4m3fn\n",
      "model.layers.10.mlp.down_proj.weight_scale torch.Size([2048, 1]) torch.bfloat16\n",
      "model.layers.10.mlp.gate_proj.weight torch.Size([8192, 2048]) torch.float8_e4m3fn\n",
      "model.layers.10.mlp.gate_proj.weight_scale torch.Size([8192, 1]) torch.bfloat16\n",
      "model.layers.10.mlp.up_proj.weight torch.Size([8192, 2048]) torch.float8_e4m3fn\n",
      "model.layers.10.mlp.up_proj.weight_scale torch.Size([8192, 1]) torch.bfloat16\n",
      "model.layers.10.post_attention_layernorm.weight torch.Size([2048]) torch.bfloat16\n",
      "model.layers.10.self_attn.k_proj.weight torch.Size([512, 2048]) torch.float8_e4m3fn\n",
      "model.layers.10.self_attn.k_proj.weight_scale torch.Size([512, 1]) torch.bfloat16\n",
      "model.layers.10.self_attn.o_proj.weight torch.Size([2048, 2048]) torch.float8_e4m3fn\n",
      "model.layers.10.self_attn.o_proj.weight_scale torch.Size([2048, 1]) torch.bfloat16\n",
      "model.layers.10.self_attn.q_proj.weight torch.Size([2048, 2048]) torch.float8_e4m3fn\n",
      "model.layers.10.self_attn.q_proj.weight_scale torch.Size([2048, 1]) torch.bfloat16\n",
      "model.layers.10.self_attn.v_proj.weight torch.Size([512, 2048]) torch.float8_e4m3fn\n",
      "model.layers.10.self_attn.v_proj.weight_scale torch.Size([512, 1]) torch.bfloat16\n",
      "model.layers.11.input_layernorm.weight torch.Size([2048]) torch.bfloat16\n",
      "model.layers.11.mlp.down_proj.weight torch.Size([2048, 8192]) torch.float8_e4m3fn\n",
      "model.layers.11.mlp.down_proj.weight_scale torch.Size([2048, 1]) torch.bfloat16\n",
      "model.layers.11.mlp.gate_proj.weight torch.Size([8192, 2048]) torch.float8_e4m3fn\n",
      "model.layers.11.mlp.gate_proj.weight_scale torch.Size([8192, 1]) torch.bfloat16\n",
      "model.layers.11.mlp.up_proj.weight torch.Size([8192, 2048]) torch.float8_e4m3fn\n",
      "model.layers.11.mlp.up_proj.weight_scale torch.Size([8192, 1]) torch.bfloat16\n",
      "model.layers.11.post_attention_layernorm.weight torch.Size([2048]) torch.bfloat16\n",
      "model.layers.11.self_attn.k_proj.weight torch.Size([512, 2048]) torch.float8_e4m3fn\n",
      "model.layers.11.self_attn.k_proj.weight_scale torch.Size([512, 1]) torch.bfloat16\n",
      "model.layers.11.self_attn.o_proj.weight torch.Size([2048, 2048]) torch.float8_e4m3fn\n",
      "model.layers.11.self_attn.o_proj.weight_scale torch.Size([2048, 1]) torch.bfloat16\n",
      "model.layers.11.self_attn.q_proj.weight torch.Size([2048, 2048]) torch.float8_e4m3fn\n",
      "model.layers.11.self_attn.q_proj.weight_scale torch.Size([2048, 1]) torch.bfloat16\n",
      "model.layers.11.self_attn.v_proj.weight torch.Size([512, 2048]) torch.float8_e4m3fn\n",
      "model.layers.11.self_attn.v_proj.weight_scale torch.Size([512, 1]) torch.bfloat16\n",
      "model.layers.12.input_layernorm.weight torch.Size([2048]) torch.bfloat16\n",
      "model.layers.12.mlp.down_proj.weight torch.Size([2048, 8192]) torch.float8_e4m3fn\n",
      "model.layers.12.mlp.down_proj.weight_scale torch.Size([2048, 1]) torch.bfloat16\n",
      "model.layers.12.mlp.gate_proj.weight torch.Size([8192, 2048]) torch.float8_e4m3fn\n",
      "model.layers.12.mlp.gate_proj.weight_scale torch.Size([8192, 1]) torch.bfloat16\n",
      "model.layers.12.mlp.up_proj.weight torch.Size([8192, 2048]) torch.float8_e4m3fn\n",
      "model.layers.12.mlp.up_proj.weight_scale torch.Size([8192, 1]) torch.bfloat16\n",
      "model.layers.12.post_attention_layernorm.weight torch.Size([2048]) torch.bfloat16\n",
      "model.layers.12.self_attn.k_proj.weight torch.Size([512, 2048]) torch.float8_e4m3fn\n",
      "model.layers.12.self_attn.k_proj.weight_scale torch.Size([512, 1]) torch.bfloat16\n",
      "model.layers.12.self_attn.o_proj.weight torch.Size([2048, 2048]) torch.float8_e4m3fn\n",
      "model.layers.12.self_attn.o_proj.weight_scale torch.Size([2048, 1]) torch.bfloat16\n",
      "model.layers.12.self_attn.q_proj.weight torch.Size([2048, 2048]) torch.float8_e4m3fn\n",
      "model.layers.12.self_attn.q_proj.weight_scale torch.Size([2048, 1]) torch.bfloat16\n",
      "model.layers.12.self_attn.v_proj.weight torch.Size([512, 2048]) torch.float8_e4m3fn\n",
      "model.layers.12.self_attn.v_proj.weight_scale torch.Size([512, 1]) torch.bfloat16\n",
      "model.layers.13.input_layernorm.weight torch.Size([2048]) torch.bfloat16\n",
      "model.layers.13.mlp.down_proj.weight torch.Size([2048, 8192]) torch.float8_e4m3fn\n",
      "model.layers.13.mlp.down_proj.weight_scale torch.Size([2048, 1]) torch.bfloat16\n",
      "model.layers.13.mlp.gate_proj.weight torch.Size([8192, 2048]) torch.float8_e4m3fn\n",
      "model.layers.13.mlp.gate_proj.weight_scale torch.Size([8192, 1]) torch.bfloat16\n",
      "model.layers.13.mlp.up_proj.weight torch.Size([8192, 2048]) torch.float8_e4m3fn\n",
      "model.layers.13.mlp.up_proj.weight_scale torch.Size([8192, 1]) torch.bfloat16\n",
      "model.layers.13.post_attention_layernorm.weight torch.Size([2048]) torch.bfloat16\n",
      "model.layers.13.self_attn.k_proj.weight torch.Size([512, 2048]) torch.float8_e4m3fn\n",
      "model.layers.13.self_attn.k_proj.weight_scale torch.Size([512, 1]) torch.bfloat16\n",
      "model.layers.13.self_attn.o_proj.weight torch.Size([2048, 2048]) torch.float8_e4m3fn\n",
      "model.layers.13.self_attn.o_proj.weight_scale torch.Size([2048, 1]) torch.bfloat16\n",
      "model.layers.13.self_attn.q_proj.weight torch.Size([2048, 2048]) torch.float8_e4m3fn\n",
      "model.layers.13.self_attn.q_proj.weight_scale torch.Size([2048, 1]) torch.bfloat16\n",
      "model.layers.13.self_attn.v_proj.weight torch.Size([512, 2048]) torch.float8_e4m3fn\n",
      "model.layers.13.self_attn.v_proj.weight_scale torch.Size([512, 1]) torch.bfloat16\n",
      "model.layers.14.input_layernorm.weight torch.Size([2048]) torch.bfloat16\n",
      "model.layers.14.mlp.down_proj.weight torch.Size([2048, 8192]) torch.float8_e4m3fn\n",
      "model.layers.14.mlp.down_proj.weight_scale torch.Size([2048, 1]) torch.bfloat16\n",
      "model.layers.14.mlp.gate_proj.weight torch.Size([8192, 2048]) torch.float8_e4m3fn\n",
      "model.layers.14.mlp.gate_proj.weight_scale torch.Size([8192, 1]) torch.bfloat16\n",
      "model.layers.14.mlp.up_proj.weight torch.Size([8192, 2048]) torch.float8_e4m3fn\n",
      "model.layers.14.mlp.up_proj.weight_scale torch.Size([8192, 1]) torch.bfloat16\n",
      "model.layers.14.post_attention_layernorm.weight torch.Size([2048]) torch.bfloat16\n",
      "model.layers.14.self_attn.k_proj.weight torch.Size([512, 2048]) torch.float8_e4m3fn\n",
      "model.layers.14.self_attn.k_proj.weight_scale torch.Size([512, 1]) torch.bfloat16\n",
      "model.layers.14.self_attn.o_proj.weight torch.Size([2048, 2048]) torch.float8_e4m3fn\n",
      "model.layers.14.self_attn.o_proj.weight_scale torch.Size([2048, 1]) torch.bfloat16\n",
      "model.layers.14.self_attn.q_proj.weight torch.Size([2048, 2048]) torch.float8_e4m3fn\n",
      "model.layers.14.self_attn.q_proj.weight_scale torch.Size([2048, 1]) torch.bfloat16\n",
      "model.layers.14.self_attn.v_proj.weight torch.Size([512, 2048]) torch.float8_e4m3fn\n",
      "model.layers.14.self_attn.v_proj.weight_scale torch.Size([512, 1]) torch.bfloat16\n",
      "model.layers.15.input_layernorm.weight torch.Size([2048]) torch.bfloat16\n",
      "model.layers.15.mlp.down_proj.weight torch.Size([2048, 8192]) torch.float8_e4m3fn\n",
      "model.layers.15.mlp.down_proj.weight_scale torch.Size([2048, 1]) torch.bfloat16\n",
      "model.layers.15.mlp.gate_proj.weight torch.Size([8192, 2048]) torch.float8_e4m3fn\n",
      "model.layers.15.mlp.gate_proj.weight_scale torch.Size([8192, 1]) torch.bfloat16\n",
      "model.layers.15.mlp.up_proj.weight torch.Size([8192, 2048]) torch.float8_e4m3fn\n",
      "model.layers.15.mlp.up_proj.weight_scale torch.Size([8192, 1]) torch.bfloat16\n",
      "model.layers.15.post_attention_layernorm.weight torch.Size([2048]) torch.bfloat16\n",
      "model.layers.15.self_attn.k_proj.weight torch.Size([512, 2048]) torch.float8_e4m3fn\n",
      "model.layers.15.self_attn.k_proj.weight_scale torch.Size([512, 1]) torch.bfloat16\n",
      "model.layers.15.self_attn.o_proj.weight torch.Size([2048, 2048]) torch.float8_e4m3fn\n",
      "model.layers.15.self_attn.o_proj.weight_scale torch.Size([2048, 1]) torch.bfloat16\n",
      "model.layers.15.self_attn.q_proj.weight torch.Size([2048, 2048]) torch.float8_e4m3fn\n",
      "model.layers.15.self_attn.q_proj.weight_scale torch.Size([2048, 1]) torch.bfloat16\n",
      "model.layers.15.self_attn.v_proj.weight torch.Size([512, 2048]) torch.float8_e4m3fn\n",
      "model.layers.15.self_attn.v_proj.weight_scale torch.Size([512, 1]) torch.bfloat16\n",
      "model.layers.2.input_layernorm.weight torch.Size([2048]) torch.bfloat16\n",
      "model.layers.2.mlp.down_proj.weight torch.Size([2048, 8192]) torch.float8_e4m3fn\n",
      "model.layers.2.mlp.down_proj.weight_scale torch.Size([2048, 1]) torch.bfloat16\n",
      "model.layers.2.mlp.gate_proj.weight torch.Size([8192, 2048]) torch.float8_e4m3fn\n",
      "model.layers.2.mlp.gate_proj.weight_scale torch.Size([8192, 1]) torch.bfloat16\n",
      "model.layers.2.mlp.up_proj.weight torch.Size([8192, 2048]) torch.float8_e4m3fn\n",
      "model.layers.2.mlp.up_proj.weight_scale torch.Size([8192, 1]) torch.bfloat16\n",
      "model.layers.2.post_attention_layernorm.weight torch.Size([2048]) torch.bfloat16\n",
      "model.layers.2.self_attn.k_proj.weight torch.Size([512, 2048]) torch.float8_e4m3fn\n",
      "model.layers.2.self_attn.k_proj.weight_scale torch.Size([512, 1]) torch.bfloat16\n",
      "model.layers.2.self_attn.o_proj.weight torch.Size([2048, 2048]) torch.float8_e4m3fn\n",
      "model.layers.2.self_attn.o_proj.weight_scale torch.Size([2048, 1]) torch.bfloat16\n",
      "model.layers.2.self_attn.q_proj.weight torch.Size([2048, 2048]) torch.float8_e4m3fn\n",
      "model.layers.2.self_attn.q_proj.weight_scale torch.Size([2048, 1]) torch.bfloat16\n",
      "model.layers.2.self_attn.v_proj.weight torch.Size([512, 2048]) torch.float8_e4m3fn\n",
      "model.layers.2.self_attn.v_proj.weight_scale torch.Size([512, 1]) torch.bfloat16\n",
      "model.layers.3.input_layernorm.weight torch.Size([2048]) torch.bfloat16\n",
      "model.layers.3.mlp.down_proj.weight torch.Size([2048, 8192]) torch.float8_e4m3fn\n",
      "model.layers.3.mlp.down_proj.weight_scale torch.Size([2048, 1]) torch.bfloat16\n",
      "model.layers.3.mlp.gate_proj.weight torch.Size([8192, 2048]) torch.float8_e4m3fn\n",
      "model.layers.3.mlp.gate_proj.weight_scale torch.Size([8192, 1]) torch.bfloat16\n",
      "model.layers.3.mlp.up_proj.weight torch.Size([8192, 2048]) torch.float8_e4m3fn\n",
      "model.layers.3.mlp.up_proj.weight_scale torch.Size([8192, 1]) torch.bfloat16\n",
      "model.layers.3.post_attention_layernorm.weight torch.Size([2048]) torch.bfloat16\n",
      "model.layers.3.self_attn.k_proj.weight torch.Size([512, 2048]) torch.float8_e4m3fn\n",
      "model.layers.3.self_attn.k_proj.weight_scale torch.Size([512, 1]) torch.bfloat16\n",
      "model.layers.3.self_attn.o_proj.weight torch.Size([2048, 2048]) torch.float8_e4m3fn\n",
      "model.layers.3.self_attn.o_proj.weight_scale torch.Size([2048, 1]) torch.bfloat16\n",
      "model.layers.3.self_attn.q_proj.weight torch.Size([2048, 2048]) torch.float8_e4m3fn\n",
      "model.layers.3.self_attn.q_proj.weight_scale torch.Size([2048, 1]) torch.bfloat16\n",
      "model.layers.3.self_attn.v_proj.weight torch.Size([512, 2048]) torch.float8_e4m3fn\n",
      "model.layers.3.self_attn.v_proj.weight_scale torch.Size([512, 1]) torch.bfloat16\n",
      "model.layers.4.input_layernorm.weight torch.Size([2048]) torch.bfloat16\n",
      "model.layers.4.mlp.down_proj.weight torch.Size([2048, 8192]) torch.float8_e4m3fn\n",
      "model.layers.4.mlp.down_proj.weight_scale torch.Size([2048, 1]) torch.bfloat16\n",
      "model.layers.4.mlp.gate_proj.weight torch.Size([8192, 2048]) torch.float8_e4m3fn\n",
      "model.layers.4.mlp.gate_proj.weight_scale torch.Size([8192, 1]) torch.bfloat16\n",
      "model.layers.4.mlp.up_proj.weight torch.Size([8192, 2048]) torch.float8_e4m3fn\n",
      "model.layers.4.mlp.up_proj.weight_scale torch.Size([8192, 1]) torch.bfloat16\n",
      "model.layers.4.post_attention_layernorm.weight torch.Size([2048]) torch.bfloat16\n",
      "model.layers.4.self_attn.k_proj.weight torch.Size([512, 2048]) torch.float8_e4m3fn\n",
      "model.layers.4.self_attn.k_proj.weight_scale torch.Size([512, 1]) torch.bfloat16\n",
      "model.layers.4.self_attn.o_proj.weight torch.Size([2048, 2048]) torch.float8_e4m3fn\n",
      "model.layers.4.self_attn.o_proj.weight_scale torch.Size([2048, 1]) torch.bfloat16\n",
      "model.layers.4.self_attn.q_proj.weight torch.Size([2048, 2048]) torch.float8_e4m3fn\n",
      "model.layers.4.self_attn.q_proj.weight_scale torch.Size([2048, 1]) torch.bfloat16\n",
      "model.layers.4.self_attn.v_proj.weight torch.Size([512, 2048]) torch.float8_e4m3fn\n",
      "model.layers.4.self_attn.v_proj.weight_scale torch.Size([512, 1]) torch.bfloat16\n",
      "model.layers.5.input_layernorm.weight torch.Size([2048]) torch.bfloat16\n",
      "model.layers.5.mlp.down_proj.weight torch.Size([2048, 8192]) torch.float8_e4m3fn\n",
      "model.layers.5.mlp.down_proj.weight_scale torch.Size([2048, 1]) torch.bfloat16\n",
      "model.layers.5.mlp.gate_proj.weight torch.Size([8192, 2048]) torch.float8_e4m3fn\n",
      "model.layers.5.mlp.gate_proj.weight_scale torch.Size([8192, 1]) torch.bfloat16\n",
      "model.layers.5.mlp.up_proj.weight torch.Size([8192, 2048]) torch.float8_e4m3fn\n",
      "model.layers.5.mlp.up_proj.weight_scale torch.Size([8192, 1]) torch.bfloat16\n",
      "model.layers.5.post_attention_layernorm.weight torch.Size([2048]) torch.bfloat16\n",
      "model.layers.5.self_attn.k_proj.weight torch.Size([512, 2048]) torch.float8_e4m3fn\n",
      "model.layers.5.self_attn.k_proj.weight_scale torch.Size([512, 1]) torch.bfloat16\n",
      "model.layers.5.self_attn.o_proj.weight torch.Size([2048, 2048]) torch.float8_e4m3fn\n",
      "model.layers.5.self_attn.o_proj.weight_scale torch.Size([2048, 1]) torch.bfloat16\n",
      "model.layers.5.self_attn.q_proj.weight torch.Size([2048, 2048]) torch.float8_e4m3fn\n",
      "model.layers.5.self_attn.q_proj.weight_scale torch.Size([2048, 1]) torch.bfloat16\n",
      "model.layers.5.self_attn.v_proj.weight torch.Size([512, 2048]) torch.float8_e4m3fn\n",
      "model.layers.5.self_attn.v_proj.weight_scale torch.Size([512, 1]) torch.bfloat16\n",
      "model.layers.6.input_layernorm.weight torch.Size([2048]) torch.bfloat16\n",
      "model.layers.6.mlp.down_proj.weight torch.Size([2048, 8192]) torch.float8_e4m3fn\n",
      "model.layers.6.mlp.down_proj.weight_scale torch.Size([2048, 1]) torch.bfloat16\n",
      "model.layers.6.mlp.gate_proj.weight torch.Size([8192, 2048]) torch.float8_e4m3fn\n",
      "model.layers.6.mlp.gate_proj.weight_scale torch.Size([8192, 1]) torch.bfloat16\n",
      "model.layers.6.mlp.up_proj.weight torch.Size([8192, 2048]) torch.float8_e4m3fn\n",
      "model.layers.6.mlp.up_proj.weight_scale torch.Size([8192, 1]) torch.bfloat16\n",
      "model.layers.6.post_attention_layernorm.weight torch.Size([2048]) torch.bfloat16\n",
      "model.layers.6.self_attn.k_proj.weight torch.Size([512, 2048]) torch.float8_e4m3fn\n",
      "model.layers.6.self_attn.k_proj.weight_scale torch.Size([512, 1]) torch.bfloat16\n",
      "model.layers.6.self_attn.o_proj.weight torch.Size([2048, 2048]) torch.float8_e4m3fn\n",
      "model.layers.6.self_attn.o_proj.weight_scale torch.Size([2048, 1]) torch.bfloat16\n",
      "model.layers.6.self_attn.q_proj.weight torch.Size([2048, 2048]) torch.float8_e4m3fn\n",
      "model.layers.6.self_attn.q_proj.weight_scale torch.Size([2048, 1]) torch.bfloat16\n",
      "model.layers.6.self_attn.v_proj.weight torch.Size([512, 2048]) torch.float8_e4m3fn\n",
      "model.layers.6.self_attn.v_proj.weight_scale torch.Size([512, 1]) torch.bfloat16\n",
      "model.layers.7.input_layernorm.weight torch.Size([2048]) torch.bfloat16\n",
      "model.layers.7.mlp.down_proj.weight torch.Size([2048, 8192]) torch.float8_e4m3fn\n",
      "model.layers.7.mlp.down_proj.weight_scale torch.Size([2048, 1]) torch.bfloat16\n",
      "model.layers.7.mlp.gate_proj.weight torch.Size([8192, 2048]) torch.float8_e4m3fn\n",
      "model.layers.7.mlp.gate_proj.weight_scale torch.Size([8192, 1]) torch.bfloat16\n",
      "model.layers.7.mlp.up_proj.weight torch.Size([8192, 2048]) torch.float8_e4m3fn\n",
      "model.layers.7.mlp.up_proj.weight_scale torch.Size([8192, 1]) torch.bfloat16\n",
      "model.layers.7.post_attention_layernorm.weight torch.Size([2048]) torch.bfloat16\n",
      "model.layers.7.self_attn.k_proj.weight torch.Size([512, 2048]) torch.float8_e4m3fn\n",
      "model.layers.7.self_attn.k_proj.weight_scale torch.Size([512, 1]) torch.bfloat16\n",
      "model.layers.7.self_attn.o_proj.weight torch.Size([2048, 2048]) torch.float8_e4m3fn\n",
      "model.layers.7.self_attn.o_proj.weight_scale torch.Size([2048, 1]) torch.bfloat16\n",
      "model.layers.7.self_attn.q_proj.weight torch.Size([2048, 2048]) torch.float8_e4m3fn\n",
      "model.layers.7.self_attn.q_proj.weight_scale torch.Size([2048, 1]) torch.bfloat16\n",
      "model.layers.7.self_attn.v_proj.weight torch.Size([512, 2048]) torch.float8_e4m3fn\n",
      "model.layers.7.self_attn.v_proj.weight_scale torch.Size([512, 1]) torch.bfloat16\n",
      "model.layers.8.input_layernorm.weight torch.Size([2048]) torch.bfloat16\n",
      "model.layers.8.mlp.down_proj.weight torch.Size([2048, 8192]) torch.float8_e4m3fn\n",
      "model.layers.8.mlp.down_proj.weight_scale torch.Size([2048, 1]) torch.bfloat16\n",
      "model.layers.8.mlp.gate_proj.weight torch.Size([8192, 2048]) torch.float8_e4m3fn\n",
      "model.layers.8.mlp.gate_proj.weight_scale torch.Size([8192, 1]) torch.bfloat16\n",
      "model.layers.8.mlp.up_proj.weight torch.Size([8192, 2048]) torch.float8_e4m3fn\n",
      "model.layers.8.mlp.up_proj.weight_scale torch.Size([8192, 1]) torch.bfloat16\n",
      "model.layers.8.post_attention_layernorm.weight torch.Size([2048]) torch.bfloat16\n",
      "model.layers.8.self_attn.k_proj.weight torch.Size([512, 2048]) torch.float8_e4m3fn\n",
      "model.layers.8.self_attn.k_proj.weight_scale torch.Size([512, 1]) torch.bfloat16\n",
      "model.layers.8.self_attn.o_proj.weight torch.Size([2048, 2048]) torch.float8_e4m3fn\n",
      "model.layers.8.self_attn.o_proj.weight_scale torch.Size([2048, 1]) torch.bfloat16\n",
      "model.layers.8.self_attn.q_proj.weight torch.Size([2048, 2048]) torch.float8_e4m3fn\n",
      "model.layers.8.self_attn.q_proj.weight_scale torch.Size([2048, 1]) torch.bfloat16\n",
      "model.layers.8.self_attn.v_proj.weight torch.Size([512, 2048]) torch.float8_e4m3fn\n",
      "model.layers.8.self_attn.v_proj.weight_scale torch.Size([512, 1]) torch.bfloat16\n",
      "model.layers.9.input_layernorm.weight torch.Size([2048]) torch.bfloat16\n",
      "model.layers.9.mlp.down_proj.weight torch.Size([2048, 8192]) torch.float8_e4m3fn\n",
      "model.layers.9.mlp.down_proj.weight_scale torch.Size([2048, 1]) torch.bfloat16\n",
      "model.layers.9.mlp.gate_proj.weight torch.Size([8192, 2048]) torch.float8_e4m3fn\n",
      "model.layers.9.mlp.gate_proj.weight_scale torch.Size([8192, 1]) torch.bfloat16\n",
      "model.layers.9.mlp.up_proj.weight torch.Size([8192, 2048]) torch.float8_e4m3fn\n",
      "model.layers.9.mlp.up_proj.weight_scale torch.Size([8192, 1]) torch.bfloat16\n",
      "model.layers.9.post_attention_layernorm.weight torch.Size([2048]) torch.bfloat16\n",
      "model.layers.9.self_attn.k_proj.weight torch.Size([512, 2048]) torch.float8_e4m3fn\n",
      "model.layers.9.self_attn.k_proj.weight_scale torch.Size([512, 1]) torch.bfloat16\n",
      "model.layers.9.self_attn.o_proj.weight torch.Size([2048, 2048]) torch.float8_e4m3fn\n",
      "model.layers.9.self_attn.o_proj.weight_scale torch.Size([2048, 1]) torch.bfloat16\n",
      "model.layers.9.self_attn.q_proj.weight torch.Size([2048, 2048]) torch.float8_e4m3fn\n",
      "model.layers.9.self_attn.q_proj.weight_scale torch.Size([2048, 1]) torch.bfloat16\n",
      "model.layers.9.self_attn.v_proj.weight torch.Size([512, 2048]) torch.float8_e4m3fn\n",
      "model.layers.9.self_attn.v_proj.weight_scale torch.Size([512, 1]) torch.bfloat16\n",
      "model.norm.weight torch.Size([2048]) torch.bfloat16\n"
     ]
    }
   ],
   "source": [
    "from safetensors import safe_open\n",
    "\n",
    "\n",
    "state = dict()\n",
    "\n",
    "with safe_open(\"/models/train/20241224-llama3.2-1B-finetune-l1-1d9e/checkpoint-5000-FP8/model.safetensors\", 'pt', device='cpu') as f:\n",
    "\tfor key in f.keys():\n",
    "\t\tstate[key] = f.get_tensor(key)\n",
    "\n",
    "for k, t in state.items():\n",
    "\tprint(k, t.shape, t.dtype)"
   ]
  },
  {
   "cell_type": "code",
   "execution_count": 5,
   "metadata": {},
   "outputs": [],
   "source": [
    "del state['lm_head.weight']"
   ]
  },
  {
   "cell_type": "code",
   "execution_count": 6,
   "metadata": {},
   "outputs": [],
   "source": [
    "from safetensors.torch import save_file\n",
    "\n",
    "\n",
    "save_file(state, \"/models/train/20241224-llama3.2-1B-finetune-l1-1d9e/checkpoint-5000-FP8/model.safetensors\", metadata={'format': 'pt'})"
   ]
  },
  {
   "cell_type": "code",
   "execution_count": 9,
   "metadata": {},
   "outputs": [
    {
     "name": "stdout",
     "output_type": "stream",
     "text": [
      "lm_head.weight 65667072\n",
      "model.embed_tokens.weight 65667072\n",
      "model.layers.0.input_layernorm.weight 512\n",
      "model.layers.0.mlp.down_proj.weight 262144\n",
      "model.layers.0.mlp.down_proj.weight_scale 512\n",
      "model.layers.0.mlp.gate_proj.weight 262144\n",
      "model.layers.0.mlp.gate_proj.weight_scale 2048\n",
      "model.layers.0.mlp.up_proj.weight 262144\n",
      "model.layers.0.mlp.up_proj.weight_scale 2048\n",
      "model.layers.0.post_attention_layernorm.weight 512\n",
      "model.layers.0.self_attn.k_proj.weight 16384\n",
      "model.layers.0.self_attn.k_proj.weight_scale 128\n",
      "model.layers.0.self_attn.o_proj.weight 524288\n",
      "model.layers.0.self_attn.o_proj.weight_scale 512\n",
      "model.layers.0.self_attn.q_proj.weight 524288\n",
      "model.layers.0.self_attn.q_proj.weight_scale 4096\n",
      "model.layers.0.self_attn.v_proj.weight 16384\n",
      "model.layers.0.self_attn.v_proj.weight_scale 128\n",
      "model.layers.1.input_layernorm.weight 512\n",
      "model.layers.1.mlp.down_proj.weight 262144\n",
      "model.layers.1.mlp.down_proj.weight_scale 512\n",
      "model.layers.1.mlp.gate_proj.weight 262144\n",
      "model.layers.1.mlp.gate_proj.weight_scale 2048\n",
      "model.layers.1.mlp.up_proj.weight 262144\n",
      "model.layers.1.mlp.up_proj.weight_scale 2048\n",
      "model.layers.1.post_attention_layernorm.weight 512\n",
      "model.layers.1.self_attn.k_proj.weight 16384\n",
      "model.layers.1.self_attn.k_proj.weight_scale 128\n",
      "model.layers.1.self_attn.o_proj.weight 524288\n",
      "model.layers.1.self_attn.o_proj.weight_scale 512\n",
      "model.layers.1.self_attn.q_proj.weight 524288\n",
      "model.layers.1.self_attn.q_proj.weight_scale 4096\n",
      "model.layers.1.self_attn.v_proj.weight 16384\n",
      "model.layers.1.self_attn.v_proj.weight_scale 128\n",
      "model.layers.2.input_layernorm.weight 512\n",
      "model.layers.2.mlp.down_proj.weight 262144\n",
      "model.layers.2.mlp.down_proj.weight_scale 512\n",
      "model.layers.2.mlp.gate_proj.weight 262144\n",
      "model.layers.2.mlp.gate_proj.weight_scale 2048\n",
      "model.layers.2.mlp.up_proj.weight 262144\n",
      "model.layers.2.mlp.up_proj.weight_scale 2048\n",
      "model.layers.2.post_attention_layernorm.weight 512\n",
      "model.layers.2.self_attn.k_proj.weight 16384\n",
      "model.layers.2.self_attn.k_proj.weight_scale 128\n",
      "model.layers.2.self_attn.o_proj.weight 524288\n",
      "model.layers.2.self_attn.o_proj.weight_scale 512\n",
      "model.layers.2.self_attn.q_proj.weight 524288\n",
      "model.layers.2.self_attn.q_proj.weight_scale 4096\n",
      "model.layers.2.self_attn.v_proj.weight 16384\n",
      "model.layers.2.self_attn.v_proj.weight_scale 128\n",
      "model.layers.3.input_layernorm.weight 512\n",
      "model.layers.3.mlp.down_proj.weight 262144\n",
      "model.layers.3.mlp.down_proj.weight_scale 512\n",
      "model.layers.3.mlp.gate_proj.weight 262144\n",
      "model.layers.3.mlp.gate_proj.weight_scale 2048\n",
      "model.layers.3.mlp.up_proj.weight 262144\n",
      "model.layers.3.mlp.up_proj.weight_scale 2048\n",
      "model.layers.3.post_attention_layernorm.weight 512\n",
      "model.layers.3.self_attn.k_proj.weight 16384\n",
      "model.layers.3.self_attn.k_proj.weight_scale 128\n",
      "model.layers.3.self_attn.o_proj.weight 524288\n",
      "model.layers.3.self_attn.o_proj.weight_scale 512\n",
      "model.layers.3.self_attn.q_proj.weight 524288\n",
      "model.layers.3.self_attn.q_proj.weight_scale 4096\n",
      "model.layers.3.self_attn.v_proj.weight 16384\n",
      "model.layers.3.self_attn.v_proj.weight_scale 128\n",
      "model.norm.weight 512\n"
     ]
    },
    {
     "data": {
      "text/plain": [
       "138847744"
      ]
     },
     "execution_count": 9,
     "metadata": {},
     "output_type": "execute_result"
    }
   ],
   "source": [
    "import torch\n",
    "\n",
    "\n",
    "size = 0\n",
    "\n",
    "for k, t in state.items():\n",
    "\tts = t.numel() * (2 if t.dtype == torch.bfloat16 else 1)\n",
    "\tprint(k, ts)\n",
    "\tsize += ts\n",
    "\n",
    "size"
   ]
  }
 ],
 "metadata": {
  "kernelspec": {
   "display_name": "env",
   "language": "python",
   "name": "python3"
  },
  "language_info": {
   "codemirror_mode": {
    "name": "ipython",
    "version": 3
   },
   "file_extension": ".py",
   "mimetype": "text/x-python",
   "name": "python",
   "nbconvert_exporter": "python",
   "pygments_lexer": "ipython3",
   "version": "3.10.15"
  }
 },
 "nbformat": 4,
 "nbformat_minor": 2
}
